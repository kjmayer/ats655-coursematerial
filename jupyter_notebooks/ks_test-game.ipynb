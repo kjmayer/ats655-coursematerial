{
 "cells": [
  {
   "cell_type": "markdown",
   "metadata": {},
   "source": [
    "# Kolmogorov-Smirnov Test (KS-Test) Game\n",
    "#### by Elizabeth Barnes\n",
    "\n",
    "It is you against the computer. Who will win??"
   ]
  },
  {
   "cell_type": "code",
   "execution_count": 1,
   "metadata": {
    "jupyter": {
     "source_hidden": true
    }
   },
   "outputs": [],
   "source": [
    "#.............................................\n",
    "# IMPORT STATEMENTS\n",
    "#.............................................\n",
    "import numpy as np\n",
    "import matplotlib.pyplot as plt\n",
    "import importlib\n",
    "import scipy.stats as stats\n",
    "import seaborn as sns\n",
    "\n",
    "#.............................................\n",
    "# PLOTTING COMMANDS \n",
    "#.............................................\n",
    "import matplotlib as mpl\n",
    "# set figure defaults\n",
    "mpl.rcParams['figure.dpi'] = 100\n",
    "plt.rcParams['figure.figsize'] = (12.0/2, 8.0/2)\n",
    "\n",
    "# np.random.seed(99)\n",
    "game_round = 0"
   ]
  },
  {
   "cell_type": "code",
   "execution_count": 2,
   "metadata": {
    "jupyter": {
     "source_hidden": true
    }
   },
   "outputs": [],
   "source": [
    "N = 40\n",
    "\n",
    "def grab_secret_data(i_type=None):\n",
    "    \n",
    "    global game_round\n",
    "    game_round = game_round + 1 # counter to keep track of how many rounds you have played\n",
    "    \n",
    "    if i_type is None:\n",
    "        i_type = np.random.randint(0,8,size=None)\n",
    "\n",
    "    if i_type==0 or i_type==1:\n",
    "        params = [0,1]\n",
    "        data = np.random.normal(params[0],params[1],size=(N,))\n",
    "        dist_type = '** standard normal distribution **'\n",
    "    elif i_type==2:\n",
    "        params = [np.random.uniform(-3,0),]\n",
    "        params = np.append(params,-params[0])\n",
    "        data = np.random.uniform(params[0],params[1],size=(N,))\n",
    "        dist_type = 'uniform distribution'        \n",
    "    elif i_type==3:\n",
    "        params = [np.random.randint(-2,2),np.abs(np.random.normal(0,1))]\n",
    "        data = np.random.lognormal(params[0],params[1],size=(N,))        \n",
    "        dist_type = 'lognormal distribution'                \n",
    "    elif i_type==4:\n",
    "        params = [np.random.randint(10,20),np.random.randint(10,20)]\n",
    "        data = np.random.f(params[0],params[1],size = (N,))\n",
    "        data = data - np.mean(data)\n",
    "        dist_type = 'f distribution'     \n",
    "    else:\n",
    "        params = [np.random.uniform(-1,1),np.abs(np.random.normal(1,1))]\n",
    "        data = np.random.normal(params[0],params[1],size = (N,))\n",
    "        dist_type = 'non-standard normal distribution'     \n",
    "        \n",
    "    return data, dist_type, params"
   ]
  },
  {
   "cell_type": "markdown",
   "metadata": {},
   "source": [
    "# Start the game"
   ]
  },
  {
   "cell_type": "markdown",
   "metadata": {},
   "source": [
    "For this game, the computer will grab a random sample data set and you need to try and decide whether the sample data came from a standard normal distribution. You will make your decision in two ways:\n",
    "* look at the distribution and guess\n",
    "* use the kolmogorov-smirnov test by analyzing the p-value of the maximum difference of a standard normal CDF and the CDF of the sample data\n",
    "\n",
    "To play the game:\n",
    "* Step 1: run CELL A below \n",
    "* Step 2: decide whether the data came from a standard normal (yes or no)\n",
    "* Step 3: run CELL B below\n",
    "* Step 4: look at the resulting statistics/p-value and update your answer accordingly (up to you how you do this)\n",
    "* Step 5: run CELL C\n",
    "* Step 6: did the sample data come from a standard normal? make a note of whether you got it right or not.\n",
    "* Step 7: repeat steps 1-6"
   ]
  },
  {
   "cell_type": "code",
   "execution_count": 12,
   "metadata": {},
   "outputs": [
    {
     "data": {
      "image/png": "[encoded data removed]",
      "text/plain": [
       "<Figure size 600x400 with 1 Axes>"
      ]
     },
     "metadata": {
      "needs_background": "light"
     },
     "output_type": "display_data"
    }
   ],
   "source": [
    "# CELL A\n",
    "#-----------------\n",
    "data, dist_type, params = grab_secret_data()\n",
    "\n",
    "plt.figure()\n",
    "sns.histplot(data)\n",
    "plt.title('Game Round = #' + str(game_round) + '\\nN=' + str(N) + ' sample data')\n",
    "plt.xlim(-6,6)\n",
    "plt.show()"
   ]
  },
  {
   "cell_type": "code",
   "execution_count": 13,
   "metadata": {},
   "outputs": [
    {
     "name": "stdout",
     "output_type": "stream",
     "text": [
      "\n",
      "Maximum difference in CDFs = 0.188\n",
      "\n",
      "KS-test p-value = 0.104064\n",
      "\n"
     ]
    }
   ],
   "source": [
    "# CELL B\n",
    "#-----------------\n",
    "# use KS-test to compare our data sample with a TRUE normal\n",
    "# https://docs.scipy.org/doc/scipy/reference/generated/scipy.stats.kstest.html\n",
    "\n",
    "D, p = stats.kstest(data,'norm')\n",
    "print('\\nMaximum difference in CDFs = ' + str(np.round(D,3)) + '\\n\\nKS-test p-value = ' + str(np.round(p,6)) + '\\n')"
   ]
  },
  {
   "cell_type": "code",
   "execution_count": 14,
   "metadata": {},
   "outputs": [
    {
     "name": "stdout",
     "output_type": "stream",
     "text": [
      "\n",
      "distribution: f distribution\n",
      "\n",
      "parameters  : [10 14]\n",
      "\n"
     ]
    }
   ],
   "source": [
    "# CELL C\n",
    "#-----------------\n",
    "# print the results/right answer\n",
    "print('\\ndistribution: ' + dist_type + '\\n\\nparameters  : ' + str(np.round(params,4)) + '\\n')"
   ]
  }
 ],
 "metadata": {
  "kernelspec": {
   "display_name": "Python 3",
   "language": "python",
   "name": "python3"
  },
  "language_info": {
   "codemirror_mode": {
    "name": "ipython",
    "version": 3
   },
   "file_extension": ".py",
   "mimetype": "text/x-python",
   "name": "python",
   "nbconvert_exporter": "python",
   "pygments_lexer": "ipython3",
   "version": "3.7.9"
  }
 },
 "nbformat": 4,
 "nbformat_minor": 4
}
